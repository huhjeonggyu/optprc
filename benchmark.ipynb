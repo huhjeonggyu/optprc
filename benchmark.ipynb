{
 "cells": [
  {
   "cell_type": "code",
   "execution_count": 1,
   "id": "3810f1d5-6471-41f2-affe-e4552d270352",
   "metadata": {},
   "outputs": [],
   "source": [
    "import pandas as pd\n",
    "import numpy as np\n",
    "import torch\n",
    "import torch.nn as nn\n",
    "import torch.optim as optim\n",
    "from sklearn.model_selection import train_test_split\n",
    "from sklearn.preprocessing import MinMaxScaler\n",
    "\n",
    "import os\n",
    "os.environ[\"CUDA_DEVICE_ORDER\"] = \"PCI_BUS_ID\"\n",
    "os.environ[\"CUDA_VISIBLE_DEVICES\"] = \"0\"\n",
    "import random\n",
    "random_seed = 2\n",
    "torch.manual_seed(random_seed)\n",
    "torch.backends.cudnn.deterministic = True\n",
    "torch.backends.cudnn.benchmark = False\n",
    "np.random.seed(random_seed)\n",
    "random.seed(random_seed)\n",
    "torch.cuda.manual_seed(random_seed)"
   ]
  },
  {
   "cell_type": "code",
   "execution_count": 2,
   "id": "c9c53989-14ca-4326-a5a1-e9e7d301db1a",
   "metadata": {},
   "outputs": [
    {
     "data": {
      "text/html": [
       "<div>\n",
       "<style scoped>\n",
       "    .dataframe tbody tr th:only-of-type {\n",
       "        vertical-align: middle;\n",
       "    }\n",
       "\n",
       "    .dataframe tbody tr th {\n",
       "        vertical-align: top;\n",
       "    }\n",
       "\n",
       "    .dataframe thead th {\n",
       "        text-align: right;\n",
       "    }\n",
       "</style>\n",
       "<table border=\"1\" class=\"dataframe\">\n",
       "  <thead>\n",
       "    <tr style=\"text-align: right;\">\n",
       "      <th></th>\n",
       "      <th>거래량</th>\n",
       "      <th>미결제약정</th>\n",
       "      <th>상대가격</th>\n",
       "      <th>잔존만기</th>\n",
       "      <th>rate</th>\n",
       "      <th>kvix</th>\n",
       "      <th>분류</th>\n",
       "      <th>anomaly_score</th>\n",
       "      <th>anomaly</th>\n",
       "      <th>이론하한</th>\n",
       "      <th>종가</th>\n",
       "    </tr>\n",
       "  </thead>\n",
       "  <tbody>\n",
       "    <tr>\n",
       "      <th>0</th>\n",
       "      <td>6.511452e-05</td>\n",
       "      <td>0.007142</td>\n",
       "      <td>0.255172</td>\n",
       "      <td>0.008011</td>\n",
       "      <td>1.0</td>\n",
       "      <td>0.130817</td>\n",
       "      <td>1.0</td>\n",
       "      <td>0.455170</td>\n",
       "      <td>0</td>\n",
       "      <td>38.332852</td>\n",
       "      <td>0.172045</td>\n",
       "    </tr>\n",
       "    <tr>\n",
       "      <th>1</th>\n",
       "      <td>8.456431e-07</td>\n",
       "      <td>0.000377</td>\n",
       "      <td>0.218227</td>\n",
       "      <td>0.008011</td>\n",
       "      <td>1.0</td>\n",
       "      <td>0.130817</td>\n",
       "      <td>1.0</td>\n",
       "      <td>0.450472</td>\n",
       "      <td>0</td>\n",
       "      <td>18.342202</td>\n",
       "      <td>0.083333</td>\n",
       "    </tr>\n",
       "  </tbody>\n",
       "</table>\n",
       "</div>"
      ],
      "text/plain": [
       "            거래량     미결제약정      상대가격      잔존만기  rate      kvix   분류  \\\n",
       "0  6.511452e-05  0.007142  0.255172  0.008011   1.0  0.130817  1.0   \n",
       "1  8.456431e-07  0.000377  0.218227  0.008011   1.0  0.130817  1.0   \n",
       "\n",
       "   anomaly_score  anomaly       이론하한        종가  \n",
       "0       0.455170        0  38.332852  0.172045  \n",
       "1       0.450472        0  18.342202  0.083333  "
      ]
     },
     "execution_count": 2,
     "metadata": {},
     "output_type": "execute_result"
    }
   ],
   "source": [
    "df = pd.read_csv('qr.csv',index_col=0)\n",
    "df.head(2)"
   ]
  },
  {
   "cell_type": "code",
   "execution_count": 3,
   "id": "e3dbf411-d891-4b56-ac42-7754b2405dde",
   "metadata": {},
   "outputs": [],
   "source": [
    "from sklearn.model_selection import train_test_split\n",
    "from sklearn.preprocessing import MinMaxScaler"
   ]
  },
  {
   "cell_type": "code",
   "execution_count": 4,
   "id": "531f7b0c-f048-4933-90a5-61c0459c30ec",
   "metadata": {},
   "outputs": [],
   "source": [
    "X = df.drop(['종가','이론하한'],axis=1)\n",
    "y = df[['종가']]\n",
    "\n",
    "X['rate'] *= 0.01\n",
    "X['kvix'] *= 0.01\n",
    "scaler = MinMaxScaler()\n",
    "scaler.fit(X[['거래량','미결제약정']])\n",
    "X[['거래량','미결제약정']] = scaler.transform(X[['거래량','미결제약정']])\n",
    "\n",
    "X_train,X_test,y_train,y_test = train_test_split(X,y,test_size=0.2,random_state=0,shuffle=True)\n",
    "z_train = X_train[['anomaly']]; X_train = X_train.drop(['anomaly','anomaly_score'],axis=1)\n",
    "z_test = X_test[['anomaly']]; X_test = X_test.drop(['anomaly','anomaly_score'],axis=1)"
   ]
  },
  {
   "cell_type": "code",
   "execution_count": 5,
   "id": "c1bbb171-c1e3-4f45-9228-7e82c641c824",
   "metadata": {},
   "outputs": [
    {
     "data": {
      "text/html": [
       "<div>\n",
       "<style scoped>\n",
       "    .dataframe tbody tr th:only-of-type {\n",
       "        vertical-align: middle;\n",
       "    }\n",
       "\n",
       "    .dataframe tbody tr th {\n",
       "        vertical-align: top;\n",
       "    }\n",
       "\n",
       "    .dataframe thead th {\n",
       "        text-align: right;\n",
       "    }\n",
       "</style>\n",
       "<table border=\"1\" class=\"dataframe\">\n",
       "  <thead>\n",
       "    <tr style=\"text-align: right;\">\n",
       "      <th></th>\n",
       "      <th>거래량</th>\n",
       "      <th>미결제약정</th>\n",
       "      <th>상대가격</th>\n",
       "      <th>잔존만기</th>\n",
       "      <th>rate</th>\n",
       "      <th>kvix</th>\n",
       "      <th>분류</th>\n",
       "    </tr>\n",
       "  </thead>\n",
       "  <tbody>\n",
       "    <tr>\n",
       "      <th>126380</th>\n",
       "      <td>0.105997</td>\n",
       "      <td>0.071289</td>\n",
       "      <td>0.200273</td>\n",
       "      <td>0.004005</td>\n",
       "      <td>0.000917</td>\n",
       "      <td>0.002381</td>\n",
       "      <td>0.0</td>\n",
       "    </tr>\n",
       "    <tr>\n",
       "      <th>46994</th>\n",
       "      <td>0.000014</td>\n",
       "      <td>0.002406</td>\n",
       "      <td>0.145396</td>\n",
       "      <td>0.073431</td>\n",
       "      <td>0.007556</td>\n",
       "      <td>0.000572</td>\n",
       "      <td>1.0</td>\n",
       "    </tr>\n",
       "  </tbody>\n",
       "</table>\n",
       "</div>"
      ],
      "text/plain": [
       "             거래량     미결제약정      상대가격      잔존만기      rate      kvix   분류\n",
       "126380  0.105997  0.071289  0.200273  0.004005  0.000917  0.002381  0.0\n",
       "46994   0.000014  0.002406  0.145396  0.073431  0.007556  0.000572  1.0"
      ]
     },
     "execution_count": 5,
     "metadata": {},
     "output_type": "execute_result"
    }
   ],
   "source": [
    "X_test.sample(frac=1).head(2)"
   ]
  },
  {
   "cell_type": "code",
   "execution_count": 6,
   "id": "8ff3c5ea-9da3-4c3d-8019-d686230e3b3f",
   "metadata": {},
   "outputs": [
    {
     "data": {
      "text/html": [
       "<div>\n",
       "<style scoped>\n",
       "    .dataframe tbody tr th:only-of-type {\n",
       "        vertical-align: middle;\n",
       "    }\n",
       "\n",
       "    .dataframe tbody tr th {\n",
       "        vertical-align: top;\n",
       "    }\n",
       "\n",
       "    .dataframe thead th {\n",
       "        text-align: right;\n",
       "    }\n",
       "</style>\n",
       "<table border=\"1\" class=\"dataframe\">\n",
       "  <thead>\n",
       "    <tr style=\"text-align: right;\">\n",
       "      <th></th>\n",
       "      <th>종가</th>\n",
       "    </tr>\n",
       "  </thead>\n",
       "  <tbody>\n",
       "    <tr>\n",
       "      <th>102734</th>\n",
       "      <td>0.000034</td>\n",
       "    </tr>\n",
       "    <tr>\n",
       "      <th>14846</th>\n",
       "      <td>0.005862</td>\n",
       "    </tr>\n",
       "  </tbody>\n",
       "</table>\n",
       "</div>"
      ],
      "text/plain": [
       "              종가\n",
       "102734  0.000034\n",
       "14846   0.005862"
      ]
     },
     "execution_count": 6,
     "metadata": {},
     "output_type": "execute_result"
    }
   ],
   "source": [
    "y_test.sample(frac=1).head(2)"
   ]
  },
  {
   "cell_type": "code",
   "execution_count": 7,
   "id": "00379d3b-9fac-4843-9fc1-03afb323c165",
   "metadata": {},
   "outputs": [],
   "source": [
    "X_train = torch.from_numpy(X_train.values).float()\n",
    "X_test = torch.from_numpy(X_test.values).float()\n",
    "y_train = torch.from_numpy(y_train.values).float()\n",
    "y_test = torch.from_numpy(y_test.values).float()\n",
    "z_train = torch.from_numpy(z_train.values).float()\n",
    "z_test = torch.from_numpy(z_test.values).float()"
   ]
  },
  {
   "cell_type": "code",
   "execution_count": 8,
   "id": "0e96a595-692a-4e81-848e-4915032faa8d",
   "metadata": {},
   "outputs": [],
   "source": [
    "dataset_train = torch.utils.data.TensorDataset(X_train,y_train,z_train)\n",
    "dataset_test = torch.utils.data.TensorDataset(X_test,y_test,z_test)"
   ]
  },
  {
   "cell_type": "code",
   "execution_count": 9,
   "id": "a0ab60fe-f51c-4440-b4ad-86494be8dde7",
   "metadata": {},
   "outputs": [],
   "source": [
    "dataloader_train = torch.utils.data.DataLoader(dataset_train, batch_size=1000, \n",
    "                                               shuffle=True, num_workers=5, drop_last=True)\n",
    "dataloader_test = torch.utils.data.DataLoader(dataset_test, batch_size=1000, \n",
    "                                              shuffle=False, num_workers=5, drop_last=True)"
   ]
  },
  {
   "cell_type": "code",
   "execution_count": 10,
   "id": "d2cd4053-56c1-4b64-aee6-9ead737512f6",
   "metadata": {},
   "outputs": [],
   "source": [
    "def loop(model_ano,dataloader,optimizer=None):\n",
    "    \n",
    "    ano_losses = []\n",
    "    ano_losses_0 = []; ano_losses_1 = []\n",
    "    m0 = 0; m1 = 0; m = 0\n",
    "    for batch_idx, samples in enumerate(dataloader):\n",
    "        \n",
    "        if optimizer:\n",
    "            optimizer.zero_grad()\n",
    "\n",
    "        x_sample, y_sample, z_sample = samples\n",
    "        x_sample = x_sample.cuda()\n",
    "        y_sample = y_sample.cuda()\n",
    "        z_sample = z_sample.cuda()\n",
    "        \n",
    "        n0 = (z_sample==0).sum().item()\n",
    "        n1 = (z_sample==1).sum().item()\n",
    "        idx0 = (z_sample==0).squeeze()\n",
    "        idx1 = (z_sample==1).squeeze()\n",
    "        \n",
    "        m0 += n0\n",
    "        m1 += n1\n",
    "        m  += (n0+n1)\n",
    "            \n",
    "        pred = model_ano(x_sample)\n",
    "        ano_loss_0 = torch.sum((pred[idx0]-y_sample[idx0])**2)\n",
    "        ano_loss_1 = torch.sum((pred[idx1]-y_sample[idx1])**2)\n",
    "        ano_losses_0.append( ano_loss_0.item() )\n",
    "        ano_losses_1.append( ano_loss_1.item() )\n",
    "       \n",
    "        ano_loss = ano_loss_0+ano_loss_1\n",
    "        ano_losses.append( (ano_loss_0+ano_loss_1).item() )\n",
    "        if optimizer :\n",
    "            ano_loss.backward()\n",
    "            optimizer.step()\n",
    "            \n",
    "    return np.sum(ano_losses)/m,np.sum(ano_losses_0)/m0,np.sum(ano_losses_1)/m1"
   ]
  },
  {
   "cell_type": "code",
   "execution_count": 11,
   "id": "0108a8a2-001f-43ca-9da9-28260606336f",
   "metadata": {},
   "outputs": [],
   "source": [
    "model_ano = nn.Sequential(\n",
    "            nn.Linear(7, 100),\n",
    "            nn.ReLU(),\n",
    "            nn.Linear(100, 100),\n",
    "            nn.ReLU(),\n",
    "            nn.Linear(100, 1)\n",
    "        )\n",
    "model_ano = model_ano.cuda()\n",
    "\n",
    "optimizer = torch.optim.Adam(model_ano.parameters(), lr=0.01)\n",
    "scheduler = torch.optim.lr_scheduler.MultiStepLR(optimizer, milestones=[30,60,100], gamma=0.1, verbose=False)\n",
    "ano_loss_fn = nn.MSELoss()\n",
    "\n",
    "EPOCHS = 150\n",
    "ano_loss_list = np.zeros((EPOCHS,2))\n",
    "ano_loss_list_0 = np.zeros((EPOCHS,2))\n",
    "ano_loss_list_1 = np.zeros((EPOCHS,2))"
   ]
  },
  {
   "cell_type": "code",
   "execution_count": null,
   "id": "5a7ea5d2-57c7-4924-8be9-54ed36c45049",
   "metadata": {
    "tags": []
   },
   "outputs": [
    {
     "name": "stdout",
     "output_type": "stream",
     "text": [
      "0  train 2.774831e-03 1.429489e-03 1.173467e-02 0  test 3.926995e-05 2.707110e-05 1.193313e-04\n",
      "1  train 5.116258e-05 4.056505e-05 1.217480e-04 1  test 3.219360e-05 2.248796e-05 9.589197e-05\n",
      "2  train 4.074053e-05 3.181695e-05 1.001707e-04 2  test 3.219286e-05 2.406032e-05 8.556697e-05\n",
      "3  train 3.795066e-05 3.003424e-05 9.067840e-05 3  test 2.610942e-05 1.828143e-05 7.748472e-05\n",
      "4  train 3.086066e-05 2.376272e-05 7.814150e-05 4  test 2.902727e-05 2.222274e-05 7.368556e-05\n",
      "5  train 3.254856e-05 2.593863e-05 7.657652e-05 5  test 3.538094e-05 2.852412e-05 8.038241e-05\n",
      "6  train 2.926060e-05 2.287566e-05 7.178163e-05 6  test 1.926753e-05 1.278775e-05 6.179446e-05\n",
      "7  train 3.093219e-05 2.478636e-05 7.186880e-05 7  test 3.375391e-05 2.498515e-05 9.130357e-05\n",
      "8  train 2.293121e-05 1.714387e-05 6.147620e-05 8  test 2.018136e-05 1.309856e-05 6.666597e-05\n",
      "9  train 2.616517e-05 2.046645e-05 6.411617e-05 9  test 3.054521e-05 2.468079e-05 6.903355e-05\n",
      "10 train 2.251529e-05 1.707224e-05 5.877077e-05 10 test 5.231228e-05 4.563963e-05 9.610507e-05\n",
      "11 train 2.175722e-05 1.614105e-05 5.916212e-05 11 test 1.897423e-05 1.284528e-05 5.919866e-05\n",
      "12 train 2.172595e-05 1.647097e-05 5.672534e-05 12 test 2.702396e-05 2.039677e-05 7.051839e-05\n",
      "13 train 2.357219e-05 1.807032e-05 6.021953e-05 13 test 1.806371e-05 1.226277e-05 5.613546e-05\n",
      "14 train 2.518476e-05 1.974408e-05 6.142094e-05 14 test 2.119877e-05 1.546796e-05 5.881023e-05\n",
      "15 train 1.978231e-05 1.476771e-05 5.318064e-05 15 test 1.964952e-05 1.368701e-05 5.878160e-05\n",
      "16 train 2.099960e-05 1.586169e-05 5.521589e-05 16 test 1.852482e-05 1.234217e-05 5.910170e-05\n",
      "17 train 2.053599e-05 1.534514e-05 5.510478e-05 17 test 2.530501e-05 1.936074e-05 6.431735e-05\n",
      "18 train 2.732642e-05 2.193158e-05 6.325023e-05 18 test 1.871560e-05 1.318445e-05 5.501666e-05\n",
      "19 train 1.749477e-05 1.269331e-05 4.947675e-05 19 test 2.036636e-05 1.398291e-05 6.226109e-05\n",
      "20 train 1.754831e-05 1.273275e-05 4.961947e-05 20 test 2.231252e-05 1.615991e-05 6.269225e-05\n",
      "21 train 2.082038e-05 1.579025e-05 5.432055e-05 21 test 2.280355e-05 1.705576e-05 6.052650e-05\n",
      "22 train 1.994096e-05 1.501249e-05 5.276573e-05 22 test 1.686579e-05 1.104269e-05 5.508295e-05\n",
      "23 train 1.886380e-05 1.372784e-05 5.307211e-05 23 test 1.832989e-05 1.208877e-05 5.929052e-05\n",
      "24 train 1.912581e-05 1.408370e-05 5.270411e-05 24 test 1.666372e-05 1.090958e-05 5.442829e-05\n",
      "25 train 2.151800e-05 1.610039e-05 5.760053e-05 25 test 3.600480e-05 2.632488e-05 9.953440e-05\n",
      "26 train 1.957293e-05 1.430723e-05 5.464373e-05 26 test 2.448197e-05 1.749192e-05 7.035785e-05\n",
      "27 train 1.757857e-05 1.255236e-05 5.105591e-05 27 test 1.802609e-05 1.248446e-05 5.439599e-05\n",
      "28 train 2.673472e-05 2.097620e-05 6.508212e-05 28 test 1.930438e-05 1.439950e-05 5.149524e-05\n",
      "29 train 1.825651e-05 1.343334e-05 5.038146e-05 29 test 1.868862e-05 1.299614e-05 5.604856e-05\n",
      "30 train 1.369104e-05 9.437834e-06 4.201694e-05 30 test 1.518570e-05 9.762418e-06 5.077881e-05\n",
      "31 train 1.340390e-05 9.293666e-06 4.077630e-05 31 test 1.515755e-05 9.682354e-06 5.109143e-05\n",
      "32 train 1.343255e-05 9.298123e-06 4.096878e-05 "
     ]
    }
   ],
   "source": [
    "for epoch in range(EPOCHS):\n",
    "    \n",
    "    train_mse,train_mse_0,train_mse_1 = loop(model_ano,dataloader_train,optimizer)\n",
    "    print('%-2d'%epoch,'train','%.6e'%train_mse,'%.6e'%train_mse_0,'%.6e'%train_mse_1,end=' ')\n",
    "    \n",
    "    with torch.no_grad() :\n",
    "        test_mse,test_mse_0,test_mse_1 = loop(model_ano,dataloader_test)\n",
    "        print('%-2d'%epoch,'test','%.6e'%test_mse,'%.6e'%test_mse_0,'%.6e'%test_mse_1)\n",
    "    \n",
    "    scheduler.step()\n",
    "    \n",
    "    ano_loss_list[epoch,0] = train_mse; ano_loss_list[epoch,1] = test_mse\n",
    "    ano_loss_list_0[epoch,0] = train_mse_0; ano_loss_list_0[epoch,1] = test_mse_0\n",
    "    ano_loss_list_1[epoch,0] = train_mse_1; ano_loss_list_1[epoch,1] = test_mse_1"
   ]
  }
 ],
 "metadata": {
  "kernelspec": {
   "display_name": "Python 3 (ipykernel)",
   "language": "python",
   "name": "python3"
  },
  "language_info": {
   "codemirror_mode": {
    "name": "ipython",
    "version": 3
   },
   "file_extension": ".py",
   "mimetype": "text/x-python",
   "name": "python",
   "nbconvert_exporter": "python",
   "pygments_lexer": "ipython3",
   "version": "3.9.7"
  }
 },
 "nbformat": 4,
 "nbformat_minor": 5
}
